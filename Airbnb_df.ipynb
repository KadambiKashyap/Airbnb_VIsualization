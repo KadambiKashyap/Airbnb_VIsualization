{
 "cells": [
  {
   "cell_type": "code",
   "execution_count": null,
   "metadata": {},
   "outputs": [],
   "source": [
    "import pandas as pd\n",
    "import numpy as np\n",
    "import pymongo\n",
    "import urllib.parse"
   ]
  },
  {
   "cell_type": "code",
   "execution_count": null,
   "metadata": {},
   "outputs": [],
   "source": [
    "username = 'your_username_from_mongodb_atlas'\n",
    "password = 'your_password'\n",
    "cluster_url = 'url@mongodb_atlas'\n",
    "\n",
    "escaped_username = urllib.parse.quote_plus(username)\n",
    "escaped_password = urllib.parse.quote_plus(password)\n",
    "\n",
    "uri = f\"mongodb+srv://{escaped_username}:{escaped_password}@{cluster_url}\"\n",
    "\n",
    "client = pymongo.MongoClient(uri)\n",
    "db = client[\"sample_airbnb\"]\n",
    "col= db[\"listingsAndReviews\"]"
   ]
  },
  {
   "cell_type": "code",
   "execution_count": null,
   "metadata": {},
   "outputs": [],
   "source": [
    "for x in col.find():\n",
    "    print(x)"
   ]
  },
  {
   "cell_type": "code",
   "execution_count": null,
   "metadata": {},
   "outputs": [],
   "source": [
    "wh_data = []\n",
    "for i in col.find():\n",
    "    data = dict(id = i['_id'],\n",
    "                listing_url = i['listing_url'],\n",
    "                name = i['name'],\n",
    "                description = i['description'],\n",
    "                house_rules = i['house_rules'],\n",
    "                property_type = i['property_type'],\n",
    "                room_type = i['room_type'],\n",
    "                bed_type = i.get('bed_type'),\n",
    "                min_nights = i['minimum_nights'],\n",
    "                max_nights = i['maximum_nights'],\n",
    "                cancellation_policy = i['cancellation_policy'],\n",
    "                accommodates = i['accommodates'],\n",
    "                total_bedrooms = i.get('bedrooms'),\n",
    "                total_beds = i.get('beds'),\n",
    "                availability = i['availability']['availability_365'],\n",
    "                price = i['price'],\n",
    "                security_deposit = i.get('security_deposit'),\n",
    "                cleaning_fee = i.get('cleaning_fee'),\n",
    "                extra_people = i['extra_people'],\n",
    "                guests_included= i['guests_included'],\n",
    "                no_of_reviews = i['number_of_reviews'],\n",
    "                review_score = i.get('review_scores', {}).get('review_scores_rating'),\n",
    "                amenities = ', '.join(i['amenities']),\n",
    "                host_id = i['host']['host_id'],\n",
    "                host_name = i['host']['host_name'],\n",
    "                Host_total_listings = i['host']['host_total_listings_count'],\n",
    "                street = i['address']['street'],\n",
    "                country = i['address']['country'],\n",
    "                country_code = i['address']['country_code'],\n",
    "                Longitude = i['address']['location']['coordinates'][0],\n",
    "                Latitude = i['address']['location']['coordinates'][1],\n",
    "    )\n",
    "    wh_data.append(data)"
   ]
  },
  {
   "cell_type": "code",
   "execution_count": null,
   "metadata": {},
   "outputs": [],
   "source": [
    "df = pd.DataFrame(wh_data)\n",
    "df\n"
   ]
  },
  {
   "cell_type": "code",
   "execution_count": null,
   "metadata": {},
   "outputs": [],
   "source": [
    "df.info()"
   ]
  },
  {
   "cell_type": "code",
   "execution_count": null,
   "metadata": {},
   "outputs": [],
   "source": [
    "df['price'] = df['price'].astype(str)\n",
    "df['price'] = df['price'].astype(float)\n",
    "df['extra_people'] = df['extra_people'].astype(str).astype(float)\n",
    "df['min_nights'] = df['min_nights'].astype('Int64')\n",
    "df['max_nights'] = df['max_nights'].astype('Int64')\n",
    "df['cleaning_fee'] = df['cleaning_fee'].astype(str)\n",
    "df['cleaning_fee'] = df['cleaning_fee'].replace('None', 0)\n",
    "df['cleaning_fee'] = df['cleaning_fee'].astype(float)\n",
    "df['guests_included'] = df['guests_included'].astype(str)\n",
    "df['guests_included'] = df['guests_included'].astype(float)\n",
    "df['security_deposit'] = df['security_deposit'].astype(str)\n",
    "df['security_deposit'] = df['security_deposit'].replace('None', 0)\n",
    "df['security_deposit'] = df['security_deposit'].astype(float)\n",
    "df['Host_total_listings'] = df['Host_total_listings'].astype('Int64')"
   ]
  },
  {
   "cell_type": "code",
   "execution_count": null,
   "metadata": {},
   "outputs": [],
   "source": [
    "df.isna().sum()"
   ]
  },
  {
   "cell_type": "code",
   "execution_count": null,
   "metadata": {},
   "outputs": [],
   "source": [
    "df.replace(r'^\\s*$', np.nan, regex=True, inplace=True) # removes blank spaces\n",
    "df['availability'].fillna(df['availability'].mode(), inplace=True)\n",
    "df['extra_people'].fillna(df['extra_people'].median(), inplace=True)\n",
    "df['no_of_reviews'].fillna(df['no_of_reviews'].min(), inplace=True)\n",
    "df['total_bedrooms'].fillna(df['total_bedrooms'].median(), inplace=True)\n",
    "df['total_beds'].fillna(df['total_beds'].median(), inplace=True)\n",
    "df['review_score'].fillna(df['review_score'].median(), inplace=True)\n",
    "df['Host_total_listings'].fillna(df['Host_total_listings'].median(), inplace=True)\n"
   ]
  },
  {
   "cell_type": "code",
   "execution_count": null,
   "metadata": {},
   "outputs": [],
   "source": [
    "# Check for duplicate rows in the Dataframe\n",
    "duplicate_rows = df[df.duplicated()]\n",
    "\n",
    "print(\"Duplicate entries in the DataFrame:\",duplicate_rows)\n"
   ]
  },
  {
   "cell_type": "code",
   "execution_count": null,
   "metadata": {},
   "outputs": [],
   "source": [
    "df.columns\n"
   ]
  },
  {
   "cell_type": "code",
   "execution_count": null,
   "metadata": {},
   "outputs": [],
   "source": [
    "df.reset_index(drop=True,inplace=True)\n",
    "df.to_csv('Airbnb_data.csv',index=False)"
   ]
  }
 ],
 "metadata": {
  "kernelspec": {
   "display_name": "streamlitenv",
   "language": "python",
   "name": "python3"
  },
  "language_info": {
   "codemirror_mode": {
    "name": "ipython",
    "version": 3
   },
   "file_extension": ".py",
   "mimetype": "text/x-python",
   "name": "python",
   "nbconvert_exporter": "python",
   "pygments_lexer": "ipython3",
   "version": "3.11.8"
  }
 },
 "nbformat": 4,
 "nbformat_minor": 2
}
